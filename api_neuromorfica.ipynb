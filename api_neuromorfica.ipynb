{
  "nbformat": 4,
  "nbformat_minor": 0,
  "metadata": {
    "colab": {
      "provenance": [],
      "authorship_tag": "ABX9TyONIeKt1GGwjyKMPl9Otif5",
      "include_colab_link": true
    },
    "kernelspec": {
      "name": "python3",
      "display_name": "Python 3"
    },
    "language_info": {
      "name": "python"
    }
  },
  "cells": [
    {
      "cell_type": "markdown",
      "metadata": {
        "id": "view-in-github",
        "colab_type": "text"
      },
      "source": [
        "<a href=\"https://colab.research.google.com/github/Isabellitankian/FIAP---2023/blob/main/api_neuromorfica.ipynb\" target=\"_parent\"><img src=\"https://colab.research.google.com/assets/colab-badge.svg\" alt=\"Open In Colab\"/></a>"
      ]
    },
    {
      "cell_type": "code",
      "source": [
        "from flask import Blueprint, jsonify\n",
        "\n",
        "from gateway.core.enums.http_status import HttpStatus\n",
        "from gateway.core.response.types import ChannelFeed\n",
        "\n",
        "\n",
        "bp  =   Blueprint('core', __name__)\n",
        "bp_v1   =   Blueprint('feed', __name__)\n",
        "bp_v2   =   Blueprint('status', __name__)\n",
        "\n",
        "api_notes = {\n",
        "    'api_version'   :   1.0,\n",
        "    'developer'     :   '@fbzavaleta',\n",
        "    'firmware'      :   'esp-idf',\n",
        "    'device'        :   'esp32'\n",
        "}\n",
        "\n",
        "@bp.route('/',  methods=['GET'])\n",
        "def index():\n",
        "    return  jsonify(api_notes),   HttpStatus.OK.value\n",
        "\n",
        "@bp.route('/conection-sensors',  methods=['POST'])\n",
        "def recibe_data():\n",
        "    return  jsonify(api_notes),   HttpStatus.OK.value\n",
        "\n",
        "\n",
        "@bp_v1.route('/',   methods=['GET'])\n",
        "def index():\n",
        "    payload =   ChannelFeed({'device': 'esp32', 'data':{'fiel1':23}})\n",
        "    return  payload.to_response(),  HttpStatus.OK.value\n",
        "\n",
        "\n",
        "@bp_v2.route('/',   methods=['GET'])\n",
        "def index():\n",
        "    pass"
      ],
      "metadata": {
        "id": "Etq7KTNmX3Hj"
      },
      "execution_count": null,
      "outputs": []
    }
  ]
}