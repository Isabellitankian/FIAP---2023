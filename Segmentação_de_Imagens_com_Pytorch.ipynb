{
  "cells": [
    {
      "cell_type": "markdown",
      "metadata": {
        "id": "view-in-github",
        "colab_type": "text"
      },
      "source": [
        "<a href=\"https://colab.research.google.com/github/Isabellitankian/FIAP---2023/blob/main/Segmenta%C3%A7%C3%A3o_de_Imagens_com_Pytorch.ipynb\" target=\"_parent\"><img src=\"https://colab.research.google.com/assets/colab-badge.svg\" alt=\"Open In Colab\"/></a>"
      ]
    },
    {
      "cell_type": "markdown",
      "metadata": {
        "id": "2vFHvJZjDkIh"
      },
      "source": [
        "# Segmentação de Imagens com Detectron 2\n",
        "\n",
        "- Para implementar a Segmentação Panóptica (*panoptic segmentation*), usaremos a a biblioteca Detectron2, desenvolvida em PyTorch pelo [FAIR](https://ai.facebook.com/) (*Facebook AI Research*). Também usaremos o DETR (DEtection TRansformer) para a detecção de objetos.\n",
        "\n",
        "- Mais sobre o Detectron2: https://ai.facebook.com/tools/detectron2/ ([repositório no Github](https://github.com/facebookresearch/Detectron2))\n",
        "- Mais sobre o DETR no paper: https://arxiv.org/pdf/2005.12872.pdf "
      ]
    },
    {
      "cell_type": "markdown",
      "metadata": {
        "id": "TqHFANqfDtir"
      },
      "source": [
        "# Importação e instalação das bibliotecas"
      ]
    },
    {
      "cell_type": "code",
      "execution_count": null,
      "metadata": {
        "id": "wqPMXqDg6F-k"
      },
      "outputs": [],
      "source": [
        "import io\n",
        "import cv2\n",
        "import math\n",
        "import matplotlib.pyplot as plt\n",
        "import requests\n",
        "from PIL import Image\n",
        "\n",
        "import torch\n",
        "from torch import nn\n",
        "from torchvision.models import resnet50\n",
        "import torchvision.transforms as T\n",
        "import numpy\n",
        "from copy import deepcopy\n",
        "from google.colab.patches import cv2_imshow\n",
        "torch.set_grad_enabled(False);"
      ]
    },
    {
      "cell_type": "code",
      "execution_count": null,
      "metadata": {
        "id": "EFb2C_eT7B7X"
      },
      "outputs": [],
      "source": [
        "#!pip install torch==1.9.0 torchvision==0.10.0\n",
        "#import torch; print(torch.__version__)  #mostra versão\n",
        "#!python -m pip install pip==21.3\n",
        "#!pip --version #mostra versão"
      ]
    },
    {
      "cell_type": "code",
      "execution_count": null,
      "metadata": {
        "id": "Wy5gsYh47FGm"
      },
      "outputs": [],
      "source": [
        "!pip install git+https://github.com/cocodataset/panopticapi.git"
      ]
    },
    {
      "cell_type": "code",
      "execution_count": null,
      "metadata": {
        "id": "pG-mI69m7Rjl"
      },
      "outputs": [],
      "source": [
        "import panopticapi\n",
        "from panopticapi.utils import id2rgb, rgb2id"
      ]
    },
    {
      "cell_type": "code",
      "execution_count": null,
      "metadata": {
        "id": "BnQmv9zi7grq"
      },
      "outputs": [],
      "source": [
        "!git clone https://github.com/facebookresearch/detectron2.git\n",
        "!pip install ./detectron2\n",
        "!pip install --upgrade pyyaml"
      ]
    },
    {
      "cell_type": "code",
      "execution_count": null,
      "metadata": {
        "id": "Xi1Z4bGf82X2"
      },
      "outputs": [],
      "source": [
        "from detectron2.utils.visualizer import Visualizer\n",
        "from detectron2.data import MetadataCatalog"
      ]
    },
    {
      "cell_type": "code",
      "execution_count": null,
      "metadata": {
        "colab": {
          "base_uri": "https://localhost:8080/"
        },
        "id": "kXuEwptz9AjV",
        "outputId": "44620db9-9987-4dcc-fc6d-fd55a3439bfa"
      },
      "outputs": [
        {
          "name": "stdout",
          "output_type": "stream",
          "text": [
            "Mounted at /content/gdrive\n"
          ]
        }
      ],
      "source": [
        "from google.colab import drive\n",
        "drive.mount('/content/gdrive')"
      ]
    },
    {
      "cell_type": "code",
      "execution_count": null,
      "metadata": {
        "colab": {
          "base_uri": "https://localhost:8080/"
        },
        "id": "Gmc9fKpH9Pea",
        "outputId": "5ab8655f-52c1-4f56-c851-573a10562217"
      },
      "outputs": [
        {
          "name": "stdout",
          "output_type": "stream",
          "text": [
            "cp: cannot stat '/content/gdrive/MyDrive/Cursos - recursos/Segmentação Imagens Python AZ/fotos': No such file or directory\n"
          ]
        }
      ],
      "source": [
        "!cp -r /content/gdrive/MyDrive/Cursos\\ -\\ recursos/Segmentação\\ Imagens\\ Python\\ AZ/fotos fotos/"
      ]
    },
    {
      "cell_type": "markdown",
      "metadata": {
        "id": "QQdCjJrSFtfc"
      },
      "source": [
        "# Normalização\n",
        "\n",
        "- Método padrão usado pelo Pytorch para normalização [mean-std](https://kozodoi.me/python/deep%20learning/pytorch/tutorial/2021/03/08/image-mean-std.html)\n",
        "- mean = [0.485, 0.456, 0.406] \n",
        "- std = [0.229, 0.224, 0.225]"
      ]
    },
    {
      "cell_type": "code",
      "execution_count": null,
      "metadata": {
        "id": "L5ExsIOH_R9V"
      },
      "outputs": [],
      "source": [
        "transform = T.Compose([T.Resize(800), T.ToTensor(), T.Normalize([0.485, 0.456, 0.406], [0.229, 0.224, 0.225])])"
      ]
    },
    {
      "cell_type": "code",
      "execution_count": null,
      "metadata": {
        "colab": {
          "base_uri": "https://localhost:8080/"
        },
        "id": "idUhyM09_w_w",
        "outputId": "47069791-dff4-4e04-dd2a-9490e3d5f20b"
      },
      "outputs": [
        {
          "data": {
            "text/plain": [
              "Compose(\n",
              "    Resize(size=800, interpolation=bilinear, max_size=None, antialias=None)\n",
              "    ToTensor()\n",
              "    Normalize(mean=[0.485, 0.456, 0.406], std=[0.229, 0.224, 0.225])\n",
              ")"
            ]
          },
          "execution_count": 10,
          "metadata": {},
          "output_type": "execute_result"
        }
      ],
      "source": [
        "transform"
      ]
    },
    {
      "cell_type": "markdown",
      "metadata": {
        "id": "mBUx86rKFu7N"
      },
      "source": [
        "# Carregamento da rede neural"
      ]
    },
    {
      "cell_type": "code",
      "execution_count": null,
      "metadata": {
        "id": "nloHah-r_3C1"
      },
      "outputs": [],
      "source": [
        "model, postprocessor = torch.hub.load('facebookresearch/detr', 'detr_resnet101_panoptic', pretrained=True, \n",
        "                                      return_postprocessor = True, num_classes=250)"
      ]
    },
    {
      "cell_type": "code",
      "execution_count": null,
      "metadata": {
        "id": "CVWkG9CwAWgR"
      },
      "outputs": [],
      "source": [
        "model"
      ]
    },
    {
      "cell_type": "code",
      "execution_count": null,
      "metadata": {
        "colab": {
          "base_uri": "https://localhost:8080/"
        },
        "id": "16Dc0tHyAjsb",
        "outputId": "15f6e3cc-03ac-4492-d791-375c77c1c9db"
      },
      "outputs": [
        {
          "data": {
            "text/plain": [
              "PostProcessPanoptic()"
            ]
          },
          "execution_count": 13,
          "metadata": {},
          "output_type": "execute_result"
        }
      ],
      "source": [
        "postprocessor"
      ]
    },
    {
      "cell_type": "markdown",
      "metadata": {
        "id": "kuj91d8KHBAi"
      },
      "source": [
        "# Preparação da imagem"
      ]
    },
    {
      "cell_type": "code",
      "execution_count": null,
      "metadata": {
        "colab": {
          "base_uri": "https://localhost:8080/"
        },
        "id": "Xg-ez2h1BJvY",
        "outputId": "c9028fa5-7eb8-4750-97e8-91315a085bcc"
      },
      "outputs": [
        {
          "name": "stdout",
          "output_type": "stream",
          "text": [
            "<PIL.JpegImagePlugin.JpegImageFile image mode=RGB size=274x184 at 0x7F6DBB0B7B10>\n"
          ]
        }
      ],
      "source": [
        "imagem = Image.open('/content/cacatua.jpg')\n",
        "print(imagem)"
      ]
    },
    {
      "cell_type": "code",
      "execution_count": null,
      "metadata": {
        "colab": {
          "base_uri": "https://localhost:8080/",
          "height": 201
        },
        "id": "M9klJflNBZq8",
        "outputId": "0872d698-98b3-4ac0-e853-4fa208069d94"
      },
      "outputs": [
        {
          "data": {
            "image/png": "[encoded data removed]",
            "text/plain": [
              "<PIL.JpegImagePlugin.JpegImageFile image mode=RGB size=274x184 at 0x7F6DBB0B7B10>"
            ]
          },
          "execution_count": 16,
          "metadata": {},
          "output_type": "execute_result"
        }
      ],
      "source": [
        "imagem"
      ]
    },
    {
      "cell_type": "code",
      "execution_count": null,
      "metadata": {
        "colab": {
          "base_uri": "https://localhost:8080/"
        },
        "id": "z3qdECLYBglP",
        "outputId": "59de6f96-81b7-45a1-9b62-b584b905e84b"
      },
      "outputs": [
        {
          "data": {
            "text/plain": [
              "(96, 122, 59)"
            ]
          },
          "execution_count": 17,
          "metadata": {},
          "output_type": "execute_result"
        }
      ],
      "source": [
        "imagem.getpixel((0,0))"
      ]
    },
    {
      "cell_type": "code",
      "execution_count": null,
      "metadata": {
        "id": "SYu17x1zBtP9"
      },
      "outputs": [],
      "source": [
        "img = transform(imagem).unsqueeze(0)"
      ]
    },
    {
      "cell_type": "code",
      "execution_count": null,
      "metadata": {
        "colab": {
          "base_uri": "https://localhost:8080/"
        },
        "id": "Wl_BdebaBzw7",
        "outputId": "58913708-5d81-4410-c0ee-432b8f90872f"
      },
      "outputs": [
        {
          "data": {
            "text/plain": [
              "tensor([[[[-0.4739, -0.4739, -0.4911,  ..., -1.5357, -1.5357, -1.5357],\n",
              "          [-0.4739, -0.4739, -0.4911,  ..., -1.5357, -1.5357, -1.5357],\n",
              "          [-0.4739, -0.4739, -0.4911,  ..., -1.5357, -1.5357, -1.5357],\n",
              "          ...,\n",
              "          [-0.0801, -0.0801, -0.0801,  ...,  0.2624,  0.2624,  0.2624],\n",
              "          [-0.0972, -0.0972, -0.0972,  ...,  0.1939,  0.1939,  0.1939],\n",
              "          [-0.0972, -0.0972, -0.0972,  ...,  0.1939,  0.1939,  0.1939]],\n",
              "\n",
              "         [[ 0.1001,  0.1001,  0.0826,  ..., -1.4055, -1.4055, -1.4055],\n",
              "          [ 0.1001,  0.1001,  0.0826,  ..., -1.4055, -1.4055, -1.4055],\n",
              "          [ 0.1001,  0.1001,  0.0826,  ..., -1.4055, -1.4055, -1.4055],\n",
              "          ...,\n",
              "          [ 0.7129,  0.7129,  0.7129,  ...,  0.4678,  0.4678,  0.4678],\n",
              "          [ 0.7129,  0.7129,  0.7129,  ...,  0.3978,  0.3978,  0.3978],\n",
              "          [ 0.7129,  0.7129,  0.7129,  ...,  0.3978,  0.3978,  0.3978]],\n",
              "\n",
              "         [[-0.7761, -0.7761, -0.7761,  ..., -1.2293, -1.2293, -1.2293],\n",
              "          [-0.7761, -0.7761, -0.7761,  ..., -1.2293, -1.2293, -1.2293],\n",
              "          [-0.7761, -0.7761, -0.7761,  ..., -1.2293, -1.2293, -1.2293],\n",
              "          ...,\n",
              "          [ 1.0539,  1.0539,  1.0539,  ...,  0.8448,  0.8448,  0.8448],\n",
              "          [ 1.0539,  1.0539,  1.0539,  ...,  0.7751,  0.7751,  0.7751],\n",
              "          [ 1.0539,  1.0539,  1.0539,  ...,  0.7751,  0.7751,  0.7751]]]])"
            ]
          },
          "execution_count": 19,
          "metadata": {},
          "output_type": "execute_result"
        }
      ],
      "source": [
        "img"
      ]
    },
    {
      "cell_type": "markdown",
      "metadata": {
        "id": "fsujIUn6G-1f"
      },
      "source": [
        "# Segmentação"
      ]
    },
    {
      "cell_type": "code",
      "execution_count": null,
      "metadata": {
        "colab": {
          "base_uri": "https://localhost:8080/"
        },
        "id": "iceps2m-CIgG",
        "outputId": "7a7128d9-c199-4356-dfd8-9aea364e321a"
      },
      "outputs": [
        {
          "name": "stderr",
          "output_type": "stream",
          "text": [
            "/root/.cache/torch/hub/facebookresearch_detr_main/models/position_encoding.py:41: UserWarning: __floordiv__ is deprecated, and its behavior will change in a future version of pytorch. It currently rounds toward 0 (like the 'trunc' function NOT 'floor'). This results in incorrect rounding for negative values. To keep the current behavior, use torch.div(a, b, rounding_mode='trunc'), or for actual floor division, use torch.div(a, b, rounding_mode='floor').\n",
            "  dim_t = self.temperature ** (2 * (dim_t // 2) / self.num_pos_feats)\n"
          ]
        }
      ],
      "source": [
        "out = model(img)"
      ]
    },
    {
      "cell_type": "code",
      "execution_count": null,
      "metadata": {
        "colab": {
          "base_uri": "https://localhost:8080/"
        },
        "id": "i-GdTSdDCSaq",
        "outputId": "f6354776-45f9-48a1-b3d5-680ed6c4161b"
      },
      "outputs": [
        {
          "data": {
            "text/plain": [
              "{'pred_logits': tensor([[[-17.0973,   3.3458,  -3.7688,  ..., -17.1934, -16.2860,  11.9397],\n",
              "          [-15.3499,  -3.6391,  -8.0665,  ..., -15.8615, -15.0949,  11.9647],\n",
              "          [-16.3217,   0.9116,  -3.5750,  ..., -16.4136, -16.1288,  11.2233],\n",
              "          ...,\n",
              "          [-19.1396,  -1.5805,  -7.7025,  ..., -19.4483, -18.7285,  13.8914],\n",
              "          [-16.4729,  -3.5487,  -9.1538,  ..., -17.4301, -16.9536,  12.2449],\n",
              "          [-17.4637,  -1.6805,  -6.7202,  ..., -18.0726, -17.9144,  13.2577]]]),\n",
              " 'pred_boxes': tensor([[[0.4786, 0.4461, 0.3293, 0.8916],\n",
              "          [0.7931, 0.9375, 0.0480, 0.0567],\n",
              "          [0.5296, 0.4720, 0.7232, 0.9327],\n",
              "          [0.3332, 0.4513, 0.5976, 0.8995],\n",
              "          [0.5000, 0.9750, 0.9982, 0.0453],\n",
              "          [0.5001, 0.9499, 0.9979, 0.0970],\n",
              "          [0.7402, 0.9282, 0.0974, 0.0629],\n",
              "          [0.5000, 0.8976, 0.9986, 0.2024],\n",
              "          [0.5000, 0.4985, 0.9986, 0.9977],\n",
              "          [0.7160, 0.9211, 0.0817, 0.0733],\n",
              "          [0.3837, 0.8607, 0.7723, 0.1757],\n",
              "          [0.5001, 0.4680, 0.9984, 0.9360],\n",
              "          [0.9477, 0.9166, 0.1051, 0.1643],\n",
              "          [0.5000, 0.8523, 0.9987, 0.2945],\n",
              "          [0.6667, 0.9419, 0.2475, 0.1053],\n",
              "          [0.4398, 0.1273, 0.1012, 0.1581],\n",
              "          [0.3861, 0.9733, 0.6957, 0.0476],\n",
              "          [0.5000, 0.8914, 0.9986, 0.2143],\n",
              "          [0.6026, 0.4927, 0.6042, 0.9370],\n",
              "          [0.4027, 0.4534, 0.4786, 0.9021],\n",
              "          [0.4709, 0.4615, 0.6491, 0.9233],\n",
              "          [0.4419, 0.6273, 0.1825, 0.5580],\n",
              "          [0.6852, 0.9382, 0.6021, 0.1173],\n",
              "          [0.5509, 0.4572, 0.2006, 0.9067],\n",
              "          [0.5171, 0.1894, 0.2096, 0.3801],\n",
              "          [0.5956, 0.4842, 0.5563, 0.9386],\n",
              "          [0.4753, 0.9041, 0.9641, 0.1891],\n",
              "          [0.5001, 0.9673, 0.9979, 0.0608],\n",
              "          [0.5000, 0.9435, 0.9982, 0.1097],\n",
              "          [0.7563, 0.9060, 0.0633, 0.0984],\n",
              "          [0.3546, 0.8842, 0.7049, 0.1882],\n",
              "          [0.5000, 0.4983, 0.9985, 0.9977],\n",
              "          [0.3512, 0.1346, 0.0757, 0.2673],\n",
              "          [0.4071, 0.4672, 0.4918, 0.8598],\n",
              "          [0.0448, 0.9341, 0.0876, 0.0895],\n",
              "          [0.5002, 0.9526, 0.9949, 0.0900],\n",
              "          [0.9519, 0.9536, 0.0942, 0.0875],\n",
              "          [0.5140, 0.2705, 0.6833, 0.5197],\n",
              "          [0.7410, 0.9360, 0.1129, 0.1038],\n",
              "          [0.3311, 0.6076, 0.3402, 0.5581],\n",
              "          [0.8370, 0.9440, 0.3214, 0.1037],\n",
              "          [0.4996, 0.9414, 0.9970, 0.1145],\n",
              "          [0.4730, 0.4415, 0.3403, 0.8363],\n",
              "          [0.5470, 0.5313, 0.7182, 0.8937],\n",
              "          [0.3493, 0.0691, 0.0516, 0.1378],\n",
              "          [0.4701, 0.9741, 0.9129, 0.0469],\n",
              "          [0.4700, 0.3613, 0.3361, 0.6219],\n",
              "          [0.7876, 0.9406, 0.0619, 0.0560],\n",
              "          [0.4676, 0.1644, 0.2758, 0.2322],\n",
              "          [0.4860, 0.4917, 0.3172, 0.8507],\n",
              "          [0.5004, 0.8289, 0.9982, 0.3366],\n",
              "          [0.3433, 0.0870, 0.0444, 0.1733],\n",
              "          [0.7468, 0.9241, 0.1760, 0.0963],\n",
              "          [0.4757, 0.1771, 0.2779, 0.2205],\n",
              "          [0.3918, 0.3108, 0.4647, 0.5268],\n",
              "          [0.2428, 0.4266, 0.3617, 0.8537],\n",
              "          [0.5634, 0.9641, 0.3697, 0.0672],\n",
              "          [0.6815, 0.6320, 0.4339, 0.6898],\n",
              "          [0.6756, 0.2434, 0.2426, 0.4837],\n",
              "          [0.4999, 0.8401, 0.9985, 0.3162],\n",
              "          [0.3911, 0.8649, 0.7730, 0.2147],\n",
              "          [0.7412, 0.9204, 0.0738, 0.0587],\n",
              "          [0.0435, 0.8066, 0.0857, 0.1387],\n",
              "          [0.7655, 0.4534, 0.3053, 0.9034],\n",
              "          [0.4786, 0.4763, 0.3422, 0.8751],\n",
              "          [0.5000, 0.9024, 0.9984, 0.1927],\n",
              "          [0.5000, 0.9286, 0.9984, 0.1413],\n",
              "          [0.8067, 0.9329, 0.0548, 0.0565],\n",
              "          [0.6207, 0.5304, 0.4037, 0.8855],\n",
              "          [0.2788, 0.8455, 0.1729, 0.1015],\n",
              "          [0.4764, 0.4688, 0.3383, 0.8471],\n",
              "          [0.4462, 0.4533, 0.3799, 0.8889],\n",
              "          [0.1278, 0.8117, 0.2386, 0.1478],\n",
              "          [0.6114, 0.5752, 0.5921, 0.8125],\n",
              "          [0.5000, 0.8953, 0.9986, 0.2069],\n",
              "          [0.4027, 0.8540, 0.7992, 0.2223],\n",
              "          [0.4756, 0.4764, 0.3390, 0.8632],\n",
              "          [0.9481, 0.9536, 0.1034, 0.0881],\n",
              "          [0.4999, 0.8473, 0.9986, 0.3031],\n",
              "          [0.6450, 0.5080, 0.5091, 0.9247],\n",
              "          [0.7308, 0.9391, 0.3474, 0.1151],\n",
              "          [0.5001, 0.9824, 0.9980, 0.0308],\n",
              "          [0.6335, 0.9608, 0.1799, 0.0703],\n",
              "          [0.0254, 0.8316, 0.0492, 0.1248],\n",
              "          [0.8083, 0.9574, 0.3800, 0.0790],\n",
              "          [0.4999, 0.9352, 0.9981, 0.1263],\n",
              "          [0.5000, 0.8652, 0.9986, 0.2656],\n",
              "          [0.7356, 0.9522, 0.3808, 0.0907],\n",
              "          [0.5025, 0.4508, 0.2992, 0.8953],\n",
              "          [0.4969, 0.4278, 0.9847, 0.8555],\n",
              "          [0.1196, 0.7578, 0.0636, 0.1383],\n",
              "          [0.5234, 0.0929, 0.1545, 0.1849],\n",
              "          [0.4820, 0.4954, 0.3359, 0.9716],\n",
              "          [0.4015, 0.4522, 0.4926, 0.9010],\n",
              "          [0.5000, 0.8473, 0.9985, 0.2136],\n",
              "          [0.5001, 0.9617, 0.9981, 0.0731],\n",
              "          [0.6048, 0.4706, 0.5711, 0.9288],\n",
              "          [0.2730, 0.3691, 0.2168, 0.2999],\n",
              "          [0.3845, 0.8522, 0.7491, 0.1934],\n",
              "          [0.3985, 0.2861, 0.4401, 0.4747]]]),\n",
              " 'pred_masks': tensor([[[[ -5.0354,  -7.2117,  -7.4291,  ...,  -6.6164,  -5.6176,  -4.6913],\n",
              "           [ -6.9442,  -9.6757,  -9.5218,  ...,  -8.2038,  -7.6212,  -6.2235],\n",
              "           [ -7.6088, -10.4226, -10.3608,  ...,  -9.6548,  -8.8770,  -7.7168],\n",
              "           ...,\n",
              "           [ -6.0381,  -8.0774,  -7.6461,  ...,  -8.2743,  -8.4882,  -6.4457],\n",
              "           [ -6.0756,  -7.9704,  -7.5408,  ...,  -6.5366,  -6.9952,  -5.3873],\n",
              "           [ -4.9377,  -7.5854,  -7.6540,  ...,  -4.5026,  -4.9627,  -3.8026]],\n",
              " \n",
              "          [[ -5.0989,  -6.9786,  -6.9026,  ...,  -7.3332,  -5.8372,  -5.0900],\n",
              "           [ -6.4679,  -8.8140,  -8.1920,  ...,  -9.4012,  -8.5258,  -6.8865],\n",
              "           [ -6.4788,  -9.1893,  -8.8774,  ..., -11.1566, -10.0675,  -8.3286],\n",
              "           ...,\n",
              "           [ -0.3204,  -1.1614,  -2.2377,  ...,  -5.9880,  -4.4816,  -2.2529],\n",
              "           [  0.0676,  -0.2004,  -0.2348,  ...,  -3.2464,  -2.5108,  -1.3137],\n",
              "           [  0.4468,  -0.3779,   0.0258,  ...,  -2.0527,  -2.0505,  -1.3103]],\n",
              " \n",
              "          [[ -3.7858,  -5.4238,  -5.6944,  ...,  -4.6977,  -3.9793,  -3.5210],\n",
              "           [ -5.3725,  -7.3336,  -7.5321,  ...,  -5.7542,  -5.3968,  -4.6489],\n",
              "           [ -6.1848,  -8.2536,  -8.6061,  ...,  -7.0953,  -6.5542,  -6.0425],\n",
              "           ...,\n",
              "           [ -5.3138,  -6.7512,  -6.0110,  ...,  -5.1880,  -5.5043,  -4.4500],\n",
              "           [ -4.9996,  -6.1976,  -5.5585,  ...,  -3.9132,  -4.2401,  -3.5189],\n",
              "           [ -3.8734,  -5.8498,  -5.8161,  ...,  -2.8251,  -3.2661,  -2.5718]],\n",
              " \n",
              "          ...,\n",
              " \n",
              "          [[ -3.2977,  -4.5206,  -4.6654,  ...,  -4.7361,  -3.7638,  -3.5534],\n",
              "           [ -4.2362,  -5.6486,  -5.6092,  ...,  -6.0737,  -5.6881,  -4.8184],\n",
              "           [ -4.6363,  -6.5099,  -6.9028,  ...,  -7.9927,  -7.2119,  -6.2591],\n",
              "           ...,\n",
              "           [ -3.0796,  -4.0099,  -4.8684,  ...,  -6.0237,  -5.5126,  -3.9601],\n",
              "           [ -2.3581,  -3.1439,  -3.7383,  ...,  -4.7540,  -4.1316,  -3.0670],\n",
              "           [ -1.4542,  -3.0585,  -3.2852,  ...,  -3.3143,  -2.9152,  -2.1751]],\n",
              " \n",
              "          [[ -3.5895,  -5.1974,  -5.4047,  ...,  -5.4379,  -4.5138,  -3.8565],\n",
              "           [ -4.4896,  -6.4854,  -6.3101,  ...,  -6.6832,  -6.0795,  -5.0310],\n",
              "           [ -4.8452,  -7.0963,  -7.0148,  ...,  -8.2103,  -7.3358,  -6.4687],\n",
              "           ...,\n",
              "           [  0.5942,   0.9571,   0.3372,  ...,  -4.2731,  -3.4715,  -2.0868],\n",
              "           [  0.7312,   0.9695,   1.2211,  ...,  -2.6623,  -2.2799,  -1.4640],\n",
              "           [  0.6015,   0.2349,   0.6329,  ...,  -1.7344,  -1.6202,  -1.1456]],\n",
              " \n",
              "          [[ -6.8582,  -9.7426,  -9.7032,  ...,  -8.6431,  -7.1877,  -5.8891],\n",
              "           [ -9.4871, -13.1748, -12.5567,  ..., -10.7132,  -9.8605,  -7.9394],\n",
              "           [-10.0293, -13.7829, -13.1816,  ..., -11.9935, -11.1476,  -9.4941],\n",
              "           ...,\n",
              "           [ -9.0328, -12.7216, -11.9556,  ..., -11.5006, -11.8411,  -8.8732],\n",
              "           [ -9.0452, -12.2389, -11.5240,  ...,  -9.1215, -10.0145,  -7.7038],\n",
              "           [ -7.1639, -10.8047, -10.7408,  ...,  -6.3194,  -7.0698,  -5.3619]]]])}"
            ]
          },
          "execution_count": 21,
          "metadata": {},
          "output_type": "execute_result"
        }
      ],
      "source": [
        "out"
      ]
    },
    {
      "cell_type": "code",
      "execution_count": null,
      "metadata": {
        "id": "tPNetp9uCwHa"
      },
      "outputs": [],
      "source": [
        "out['pred_logits'].size()"
      ]
    },
    {
      "cell_type": "code",
      "execution_count": null,
      "metadata": {
        "id": "lWnk4uekDOPv"
      },
      "outputs": [],
      "source": [
        "scores = out['pred_logits'].softmax(-1)[...,:-1].max(-1)[0]"
      ]
    },
    {
      "cell_type": "code",
      "execution_count": null,
      "metadata": {
        "id": "Gzq4rTaUDlK0"
      },
      "outputs": [],
      "source": [
        "scores"
      ]
    },
    {
      "cell_type": "markdown",
      "metadata": {
        "id": "4Jo2xhp6HKgZ"
      },
      "source": [
        "# Retorno das máscaras"
      ]
    },
    {
      "cell_type": "code",
      "execution_count": null,
      "metadata": {
        "colab": {
          "background_save": true
        },
        "id": "iMur8RMDFLQn",
        "outputId": "ccbfee7e-e934-477b-be4c-52fe67e35f04"
      },
      "outputs": [
        {
          "name": "stdout",
          "output_type": "stream",
          "text": [
            "tensor([[False, False, False, False, False, False, False, False, False, False,\n",
            "         False,  True, False, False, False, False, False, False, False, False,\n",
            "         False, False, False, False, False, False, False, False, False, False,\n",
            "         False, False, False, False, False, False, False, False, False, False,\n",
            "         False, False, False, False, False, False, False, False,  True, False,\n",
            "         False, False, False, False, False, False, False, False, False, False,\n",
            "         False, False, False, False, False, False, False, False, False, False,\n",
            "         False, False, False, False, False, False, False, False, False, False,\n",
            "         False, False, False, False, False, False, False, False, False, False,\n",
            "         False, False, False, False, False, False, False, False, False, False]])\n"
          ]
        }
      ],
      "source": [
        "keep = scores > 0.85\n",
        "print(keep)"
      ]
    },
    {
      "cell_type": "code",
      "execution_count": null,
      "metadata": {
        "id": "fx7-Q8HoFuUY"
      },
      "outputs": [],
      "source": [
        "math.ceil(keep.sum().item() / 5)"
      ]
    },
    {
      "cell_type": "code",
      "execution_count": null,
      "metadata": {
        "id": "PpZcHioiFaG8"
      },
      "outputs": [],
      "source": [
        "n_colunas = 5\n",
        "fig, axs = plt.subplots(ncols=n_colunas, nrows=math.ceil(keep.sum().item() / n_colunas), figsize=(18,10))\n",
        "for line in axs:\n",
        "  for a in line:\n",
        "    a.axis('off')\n",
        "for i, mask in enumerate(out['pred_masks'][keep]):\n",
        "  ax = axs[i // n_colunas, i % n_colunas]\n",
        "  ax.imshow(mask, cmap='cividis')\n",
        "  ax.axis('off')"
      ]
    },
    {
      "cell_type": "markdown",
      "metadata": {
        "id": "CWQKjrwsHNS_"
      },
      "source": [
        "# Unificação dos segmentos"
      ]
    },
    {
      "cell_type": "code",
      "execution_count": null,
      "metadata": {
        "id": "Jsp8fAi9HeQu"
      },
      "outputs": [],
      "source": [
        "img.shape, img.shape[-2:], torch.as_tensor(img.shape[-2:]).unsqueeze(0)[0]"
      ]
    },
    {
      "cell_type": "code",
      "execution_count": null,
      "metadata": {
        "id": "0TZo1bKCHNiV"
      },
      "outputs": [],
      "source": [
        "resultado = postprocessor(out, torch.as_tensor(img.shape[-2:]).unsqueeze(0))[0]"
      ]
    },
    {
      "cell_type": "code",
      "execution_count": null,
      "metadata": {
        "id": "igpP692wIUY8"
      },
      "outputs": [],
      "source": [
        "resultado"
      ]
    },
    {
      "cell_type": "code",
      "execution_count": null,
      "metadata": {
        "id": "y3QGmAZOIh4R"
      },
      "outputs": [],
      "source": [
        "import itertools\n",
        "import seaborn as sns\n",
        "palette = itertools.cycle(sns.color_palette())"
      ]
    },
    {
      "cell_type": "code",
      "execution_count": null,
      "metadata": {
        "id": "2vUR0SnyIxQR"
      },
      "outputs": [],
      "source": [
        "seg_panoptica = Image.open(io.BytesIO(resultado['png_string']))\n",
        "seg_panoptica = numpy.array(seg_panoptica, dtype=numpy.uint8).copy()\n",
        "seg_panoptica_id = rgb2id(seg_panoptica)"
      ]
    },
    {
      "cell_type": "code",
      "execution_count": null,
      "metadata": {
        "id": "3oEFj0L2JV7i"
      },
      "outputs": [],
      "source": [
        "seg_panoptica_id.shape"
      ]
    },
    {
      "cell_type": "code",
      "execution_count": null,
      "metadata": {
        "id": "6X3hLJVSJmR-"
      },
      "outputs": [],
      "source": [
        "import numpy as np"
      ]
    },
    {
      "cell_type": "code",
      "execution_count": null,
      "metadata": {
        "id": "0bN5aXM5JbA_"
      },
      "outputs": [],
      "source": [
        "seg_panoptica_id, np.unique(seg_panoptica_id, return_counts = True)"
      ]
    },
    {
      "cell_type": "code",
      "execution_count": null,
      "metadata": {
        "id": "UWQkUUAaKIVj"
      },
      "outputs": [],
      "source": [
        "seg_panoptica[:,:,:] = 0\n",
        "for id in range(seg_panoptica_id.max() + 1):\n",
        "  seg_panoptica[seg_panoptica_id == id] = numpy.asarray(next(palette)) * 255\n",
        "plt.figure(figsize=(15,15))\n",
        "plt.imshow(seg_panoptica)\n",
        "plt.axis('off')"
      ]
    },
    {
      "cell_type": "markdown",
      "metadata": {
        "id": "LC34DIvoHldC"
      },
      "source": [
        "# Visualização final com Detectron2"
      ]
    },
    {
      "cell_type": "code",
      "execution_count": null,
      "metadata": {
        "id": "B3lqAAgHMcCH"
      },
      "outputs": [],
      "source": [
        "resultado['segments_info']"
      ]
    },
    {
      "cell_type": "code",
      "execution_count": null,
      "metadata": {
        "id": "oCRuqOkKMSnv"
      },
      "outputs": [],
      "source": [
        "# https://en.wikipedia.org/wiki/Object_copying#:~:text=Deep%20copy%20is%20a%20process,is%20copied%20in%20other%20object.\n",
        "info_segmentos = deepcopy(resultado['segments_info'])"
      ]
    },
    {
      "cell_type": "code",
      "execution_count": null,
      "metadata": {
        "id": "bdldIfCLMx5T"
      },
      "outputs": [],
      "source": [
        "seg_panoptica = Image.open(io.BytesIO(resultado['png_string']))"
      ]
    },
    {
      "cell_type": "code",
      "execution_count": null,
      "metadata": {
        "id": "wPCuz6FbNPZK"
      },
      "outputs": [],
      "source": [
        "final_w, final_h = seg_panoptica.size\n",
        "print(final_w, final_h)"
      ]
    },
    {
      "cell_type": "code",
      "execution_count": null,
      "metadata": {
        "id": "DbwsTV8uNbwB"
      },
      "outputs": [],
      "source": [
        "seg_panoptica = numpy.asarray(seg_panoptica, dtype=numpy.uint8)\n",
        "seg_panoptica = torch.from_numpy(rgb2id(seg_panoptica))"
      ]
    },
    {
      "cell_type": "code",
      "execution_count": null,
      "metadata": {
        "id": "asRdmnkbNqqV"
      },
      "outputs": [],
      "source": [
        "meta = MetadataCatalog.get('coco_2017_val_panoptic_separated')\n",
        "for i in range(len(info_segmentos)):\n",
        "  c = info_segmentos[i]['category_id']\n",
        "  #print(c)\n",
        "  info_segmentos[i]['category_id'] = meta.thing_dataset_id_to_contiguous_id[c] if info_segmentos[i]['isthing'] else meta.stuff_dataset_id_to_contiguous_id[c]"
      ]
    },
    {
      "cell_type": "code",
      "execution_count": null,
      "metadata": {
        "id": "t5r-SJxfO4x1"
      },
      "outputs": [],
      "source": [
        "info_segmentos"
      ]
    },
    {
      "cell_type": "code",
      "execution_count": null,
      "metadata": {
        "id": "36DxaPe2PcUa"
      },
      "outputs": [],
      "source": [
        "cores_classes = meta.stuff_colors\n",
        "cores_classes"
      ]
    },
    {
      "cell_type": "code",
      "execution_count": null,
      "metadata": {
        "id": "bMn7F6P9PkM8"
      },
      "outputs": [],
      "source": [
        "v = Visualizer(numpy.array(imagem.copy().resize((final_w, final_h)))[:,:,::-1], meta, scale=1.0)\n",
        "v = v.draw_panoptic_seg_predictions(seg_panoptica, info_segmentos)\n",
        "resultado_final = v.get_image()\n",
        "cv2_imshow(resultado_final)"
      ]
    }
  ],
  "metadata": {
    "colab": {
      "provenance": [],
      "include_colab_link": true
    },
    "kernelspec": {
      "display_name": "Python 3",
      "name": "python3"
    },
    "language_info": {
      "name": "python"
    }
  },
  "nbformat": 4,
  "nbformat_minor": 0
}