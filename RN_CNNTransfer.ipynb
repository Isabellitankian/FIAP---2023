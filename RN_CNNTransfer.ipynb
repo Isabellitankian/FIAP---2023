{
  "nbformat": 4,
  "nbformat_minor": 0,
  "metadata": {
    "colab": {
      "provenance": [],
      "include_colab_link": true
    },
    "kernelspec": {
      "name": "python3",
      "display_name": "Python 3"
    },
    "language_info": {
      "name": "python"
    },
    "accelerator": "GPU",
    "gpuClass": "standard",
    "widgets": {
      "application/vnd.jupyter.widget-state+json": {
        "c2134c24d97648df9df532a4c5355165": {
          "model_module": "@jupyter-widgets/controls",
          "model_name": "HBoxModel",
          "model_module_version": "1.5.0",
          "state": {
            "_dom_classes": [],
            "_model_module": "@jupyter-widgets/controls",
            "_model_module_version": "1.5.0",
            "_model_name": "HBoxModel",
            "_view_count": null,
            "_view_module": "@jupyter-widgets/controls",
            "_view_module_version": "1.5.0",
            "_view_name": "HBoxView",
            "box_style": "",
            "children": [
              "IPY_MODEL_74291f196902477f8fd9c75e12607795",
              "IPY_MODEL_5cc0ed822f0547bb9796e6fd894b0022",
              "IPY_MODEL_4391ee655489467b9d45ff949552d4e5"
            ],
            "layout": "IPY_MODEL_ac5ac747b9194e5cab565a40046cb59a"
          }
        },
        "74291f196902477f8fd9c75e12607795": {
          "model_module": "@jupyter-widgets/controls",
          "model_name": "HTMLModel",
          "model_module_version": "1.5.0",
          "state": {
            "_dom_classes": [],
            "_model_module": "@jupyter-widgets/controls",
            "_model_module_version": "1.5.0",
            "_model_name": "HTMLModel",
            "_view_count": null,
            "_view_module": "@jupyter-widgets/controls",
            "_view_module_version": "1.5.0",
            "_view_name": "HTMLView",
            "description": "",
            "description_tooltip": null,
            "layout": "IPY_MODEL_c7a0108d7ef24401b11a32b86ab60d23",
            "placeholder": "​",
            "style": "IPY_MODEL_47f0ca0dccef435e853af90379651564",
            "value": "Dl Completed...: 100%"
          }
        },
        "5cc0ed822f0547bb9796e6fd894b0022": {
          "model_module": "@jupyter-widgets/controls",
          "model_name": "FloatProgressModel",
          "model_module_version": "1.5.0",
          "state": {
            "_dom_classes": [],
            "_model_module": "@jupyter-widgets/controls",
            "_model_module_version": "1.5.0",
            "_model_name": "FloatProgressModel",
            "_view_count": null,
            "_view_module": "@jupyter-widgets/controls",
            "_view_module_version": "1.5.0",
            "_view_name": "ProgressView",
            "bar_style": "success",
            "description": "",
            "description_tooltip": null,
            "layout": "IPY_MODEL_4ac30e11e7ee49d89ad1058c6e0cb6f3",
            "max": 5,
            "min": 0,
            "orientation": "horizontal",
            "style": "IPY_MODEL_2dfcab084e6645d1a007834e6a038e4f",
            "value": 5
          }
        },
        "4391ee655489467b9d45ff949552d4e5": {
          "model_module": "@jupyter-widgets/controls",
          "model_name": "HTMLModel",
          "model_module_version": "1.5.0",
          "state": {
            "_dom_classes": [],
            "_model_module": "@jupyter-widgets/controls",
            "_model_module_version": "1.5.0",
            "_model_name": "HTMLModel",
            "_view_count": null,
            "_view_module": "@jupyter-widgets/controls",
            "_view_module_version": "1.5.0",
            "_view_name": "HTMLView",
            "description": "",
            "description_tooltip": null,
            "layout": "IPY_MODEL_44f16cfcaf1c4f1b987fd335d8ac048d",
            "placeholder": "​",
            "style": "IPY_MODEL_ae24b240ec484261abb0a44562e53fb0",
            "value": " 5/5 [00:04&lt;00:00,  1.00s/ file]"
          }
        },
        "ac5ac747b9194e5cab565a40046cb59a": {
          "model_module": "@jupyter-widgets/base",
          "model_name": "LayoutModel",
          "model_module_version": "1.2.0",
          "state": {
            "_model_module": "@jupyter-widgets/base",
            "_model_module_version": "1.2.0",
            "_model_name": "LayoutModel",
            "_view_count": null,
            "_view_module": "@jupyter-widgets/base",
            "_view_module_version": "1.2.0",
            "_view_name": "LayoutView",
            "align_content": null,
            "align_items": null,
            "align_self": null,
            "border": null,
            "bottom": null,
            "display": null,
            "flex": null,
            "flex_flow": null,
            "grid_area": null,
            "grid_auto_columns": null,
            "grid_auto_flow": null,
            "grid_auto_rows": null,
            "grid_column": null,
            "grid_gap": null,
            "grid_row": null,
            "grid_template_areas": null,
            "grid_template_columns": null,
            "grid_template_rows": null,
            "height": null,
            "justify_content": null,
            "justify_items": null,
            "left": null,
            "margin": null,
            "max_height": null,
            "max_width": null,
            "min_height": null,
            "min_width": null,
            "object_fit": null,
            "object_position": null,
            "order": null,
            "overflow": null,
            "overflow_x": null,
            "overflow_y": null,
            "padding": null,
            "right": null,
            "top": null,
            "visibility": null,
            "width": null
          }
        },
        "c7a0108d7ef24401b11a32b86ab60d23": {
          "model_module": "@jupyter-widgets/base",
          "model_name": "LayoutModel",
          "model_module_version": "1.2.0",
          "state": {
            "_model_module": "@jupyter-widgets/base",
            "_model_module_version": "1.2.0",
            "_model_name": "LayoutModel",
            "_view_count": null,
            "_view_module": "@jupyter-widgets/base",
            "_view_module_version": "1.2.0",
            "_view_name": "LayoutView",
            "align_content": null,
            "align_items": null,
            "align_self": null,
            "border": null,
            "bottom": null,
            "display": null,
            "flex": null,
            "flex_flow": null,
            "grid_area": null,
            "grid_auto_columns": null,
            "grid_auto_flow": null,
            "grid_auto_rows": null,
            "grid_column": null,
            "grid_gap": null,
            "grid_row": null,
            "grid_template_areas": null,
            "grid_template_columns": null,
            "grid_template_rows": null,
            "height": null,
            "justify_content": null,
            "justify_items": null,
            "left": null,
            "margin": null,
            "max_height": null,
            "max_width": null,
            "min_height": null,
            "min_width": null,
            "object_fit": null,
            "object_position": null,
            "order": null,
            "overflow": null,
            "overflow_x": null,
            "overflow_y": null,
            "padding": null,
            "right": null,
            "top": null,
            "visibility": null,
            "width": null
          }
        },
        "47f0ca0dccef435e853af90379651564": {
          "model_module": "@jupyter-widgets/controls",
          "model_name": "DescriptionStyleModel",
          "model_module_version": "1.5.0",
          "state": {
            "_model_module": "@jupyter-widgets/controls",
            "_model_module_version": "1.5.0",
            "_model_name": "DescriptionStyleModel",
            "_view_count": null,
            "_view_module": "@jupyter-widgets/base",
            "_view_module_version": "1.2.0",
            "_view_name": "StyleView",
            "description_width": ""
          }
        },
        "4ac30e11e7ee49d89ad1058c6e0cb6f3": {
          "model_module": "@jupyter-widgets/base",
          "model_name": "LayoutModel",
          "model_module_version": "1.2.0",
          "state": {
            "_model_module": "@jupyter-widgets/base",
            "_model_module_version": "1.2.0",
            "_model_name": "LayoutModel",
            "_view_count": null,
            "_view_module": "@jupyter-widgets/base",
            "_view_module_version": "1.2.0",
            "_view_name": "LayoutView",
            "align_content": null,
            "align_items": null,
            "align_self": null,
            "border": null,
            "bottom": null,
            "display": null,
            "flex": null,
            "flex_flow": null,
            "grid_area": null,
            "grid_auto_columns": null,
            "grid_auto_flow": null,
            "grid_auto_rows": null,
            "grid_column": null,
            "grid_gap": null,
            "grid_row": null,
            "grid_template_areas": null,
            "grid_template_columns": null,
            "grid_template_rows": null,
            "height": null,
            "justify_content": null,
            "justify_items": null,
            "left": null,
            "margin": null,
            "max_height": null,
            "max_width": null,
            "min_height": null,
            "min_width": null,
            "object_fit": null,
            "object_position": null,
            "order": null,
            "overflow": null,
            "overflow_x": null,
            "overflow_y": null,
            "padding": null,
            "right": null,
            "top": null,
            "visibility": null,
            "width": null
          }
        },
        "2dfcab084e6645d1a007834e6a038e4f": {
          "model_module": "@jupyter-widgets/controls",
          "model_name": "ProgressStyleModel",
          "model_module_version": "1.5.0",
          "state": {
            "_model_module": "@jupyter-widgets/controls",
            "_model_module_version": "1.5.0",
            "_model_name": "ProgressStyleModel",
            "_view_count": null,
            "_view_module": "@jupyter-widgets/base",
            "_view_module_version": "1.2.0",
            "_view_name": "StyleView",
            "bar_color": null,
            "description_width": ""
          }
        },
        "44f16cfcaf1c4f1b987fd335d8ac048d": {
          "model_module": "@jupyter-widgets/base",
          "model_name": "LayoutModel",
          "model_module_version": "1.2.0",
          "state": {
            "_model_module": "@jupyter-widgets/base",
            "_model_module_version": "1.2.0",
            "_model_name": "LayoutModel",
            "_view_count": null,
            "_view_module": "@jupyter-widgets/base",
            "_view_module_version": "1.2.0",
            "_view_name": "LayoutView",
            "align_content": null,
            "align_items": null,
            "align_self": null,
            "border": null,
            "bottom": null,
            "display": null,
            "flex": null,
            "flex_flow": null,
            "grid_area": null,
            "grid_auto_columns": null,
            "grid_auto_flow": null,
            "grid_auto_rows": null,
            "grid_column": null,
            "grid_gap": null,
            "grid_row": null,
            "grid_template_areas": null,
            "grid_template_columns": null,
            "grid_template_rows": null,
            "height": null,
            "justify_content": null,
            "justify_items": null,
            "left": null,
            "margin": null,
            "max_height": null,
            "max_width": null,
            "min_height": null,
            "min_width": null,
            "object_fit": null,
            "object_position": null,
            "order": null,
            "overflow": null,
            "overflow_x": null,
            "overflow_y": null,
            "padding": null,
            "right": null,
            "top": null,
            "visibility": null,
            "width": null
          }
        },
        "ae24b240ec484261abb0a44562e53fb0": {
          "model_module": "@jupyter-widgets/controls",
          "model_name": "DescriptionStyleModel",
          "model_module_version": "1.5.0",
          "state": {
            "_model_module": "@jupyter-widgets/controls",
            "_model_module_version": "1.5.0",
            "_model_name": "DescriptionStyleModel",
            "_view_count": null,
            "_view_module": "@jupyter-widgets/base",
            "_view_module_version": "1.2.0",
            "_view_name": "StyleView",
            "description_width": ""
          }
        }
      }
    }
  },
  "cells": [
    {
      "cell_type": "markdown",
      "metadata": {
        "id": "view-in-github",
        "colab_type": "text"
      },
      "source": [
        "<a href=\"https://colab.research.google.com/github/Isabellitankian/FIAP---2023/blob/main/RN_CNNTransfer.ipynb\" target=\"_parent\"><img src=\"https://colab.research.google.com/assets/colab-badge.svg\" alt=\"Open In Colab\"/></a>"
      ]
    },
    {
      "cell_type": "markdown",
      "source": [
        "# Aula 17 - CNN + Transfer Learning"
      ],
      "metadata": {
        "id": "zmgSu45O745P"
      }
    },
    {
      "cell_type": "code",
      "execution_count": null,
      "metadata": {
        "id": "p7FUgUm27to7"
      },
      "outputs": [],
      "source": [
        "# Imports\n",
        "import tensorflow as tf\n",
        "import numpy as np"
      ]
    },
    {
      "cell_type": "code",
      "source": [
        "# Carregar o dataset\n",
        "import tensorflow_datasets as tfds\n",
        "from tensorflow.keras.utils import to_categorical\n",
        "\n",
        "(train_ds, train_labels), (test_ds, test_labels) = tfds.load(\n",
        "    \"tf_flowers\",\n",
        "    split=[\"train[:70%]\", \"train[:30%]\"],\n",
        "    batch_size=-1, \n",
        "    as_supervised=True\n",
        ")"
      ],
      "metadata": {
        "id": "my8Wqdor8BV2",
        "colab": {
          "base_uri": "https://localhost:8080/",
          "height": 106,
          "referenced_widgets": [
            "c2134c24d97648df9df532a4c5355165",
            "74291f196902477f8fd9c75e12607795",
            "5cc0ed822f0547bb9796e6fd894b0022",
            "4391ee655489467b9d45ff949552d4e5",
            "ac5ac747b9194e5cab565a40046cb59a",
            "c7a0108d7ef24401b11a32b86ab60d23",
            "47f0ca0dccef435e853af90379651564",
            "4ac30e11e7ee49d89ad1058c6e0cb6f3",
            "2dfcab084e6645d1a007834e6a038e4f",
            "44f16cfcaf1c4f1b987fd335d8ac048d",
            "ae24b240ec484261abb0a44562e53fb0"
          ]
        },
        "outputId": "4e15eb09-d620-4042-b2ad-2f189ac8fc8f"
      },
      "execution_count": null,
      "outputs": [
        {
          "output_type": "stream",
          "name": "stdout",
          "text": [
            "\u001b[1mDownloading and preparing dataset 218.21 MiB (download: 218.21 MiB, generated: 221.83 MiB, total: 440.05 MiB) to ~/tensorflow_datasets/tf_flowers/3.0.1...\u001b[0m\n"
          ]
        },
        {
          "output_type": "display_data",
          "data": {
            "text/plain": [
              "Dl Completed...:   0%|          | 0/5 [00:00<?, ? file/s]"
            ],
            "application/vnd.jupyter.widget-view+json": {
              "version_major": 2,
              "version_minor": 0,
              "model_id": "c2134c24d97648df9df532a4c5355165"
            }
          },
          "metadata": {}
        },
        {
          "output_type": "stream",
          "name": "stdout",
          "text": [
            "\u001b[1mDataset tf_flowers downloaded and prepared to ~/tensorflow_datasets/tf_flowers/3.0.1. Subsequent calls will reuse this data.\u001b[0m\n"
          ]
        }
      ]
    },
    {
      "cell_type": "code",
      "source": [
        "train_ds.shape"
      ],
      "metadata": {
        "colab": {
          "base_uri": "https://localhost:8080/"
        },
        "id": "9s7hZMYb84Zt",
        "outputId": "d358ba70-91f6-4c1a-fe83-9fdb9bdf9899"
      },
      "execution_count": null,
      "outputs": [
        {
          "output_type": "execute_result",
          "data": {
            "text/plain": [
              "TensorShape([2569, 442, 1024, 3])"
            ]
          },
          "metadata": {},
          "execution_count": 3
        }
      ]
    },
    {
      "cell_type": "code",
      "source": [
        "test_ds.shape"
      ],
      "metadata": {
        "colab": {
          "base_uri": "https://localhost:8080/"
        },
        "id": "bO6muRda9LFZ",
        "outputId": "97ac2646-6b58-443f-c9ba-21f5020d31b1"
      },
      "execution_count": null,
      "outputs": [
        {
          "output_type": "execute_result",
          "data": {
            "text/plain": [
              "TensorShape([1101, 442, 1024, 3])"
            ]
          },
          "metadata": {},
          "execution_count": 4
        }
      ]
    },
    {
      "cell_type": "markdown",
      "source": [
        "## Processar os dados"
      ],
      "metadata": {
        "id": "o2pBUC5g9vrc"
      }
    },
    {
      "cell_type": "code",
      "source": [
        "size = (150 , 150)\n",
        "\n",
        "train_ds = tf.image.resize(train_ds, size)\n",
        "test_ds = tf.image.resize(test_ds, size)\n",
        "\n",
        "train_labels = to_categorical(train_labels, num_classes=5)\n",
        "test_labels = to_categorical(test_labels, num_classes=5)"
      ],
      "metadata": {
        "id": "2gTvrOSA9eGq"
      },
      "execution_count": null,
      "outputs": []
    },
    {
      "cell_type": "code",
      "source": [
        "train_labels"
      ],
      "metadata": {
        "colab": {
          "base_uri": "https://localhost:8080/"
        },
        "id": "8fpog7I0-XNM",
        "outputId": "474ce5c2-5dde-4bf0-b0f1-0046c899ba8e"
      },
      "execution_count": null,
      "outputs": [
        {
          "output_type": "execute_result",
          "data": {
            "text/plain": [
              "array([[0., 0., 1., 0., 0.],\n",
              "       [0., 0., 0., 1., 0.],\n",
              "       [0., 0., 0., 1., 0.],\n",
              "       ...,\n",
              "       [1., 0., 0., 0., 0.],\n",
              "       [0., 0., 1., 0., 0.],\n",
              "       [1., 0., 0., 0., 0.]], dtype=float32)"
            ]
          },
          "metadata": {},
          "execution_count": 6
        }
      ]
    },
    {
      "cell_type": "markdown",
      "source": [
        "## Modelo \"profundo\" simples"
      ],
      "metadata": {
        "id": "8mFdpMUN-jgN"
      }
    },
    {
      "cell_type": "code",
      "source": [
        "# Import \n",
        "from tensorflow.keras import Sequential, layers\n",
        "from tensorflow.keras.callbacks import EarlyStopping\n",
        "from tensorflow.keras.layers.experimental.preprocessing import Rescaling\n",
        "\n",
        "# Definir a arquitetura da CNN -> camada de extração de features\n",
        "hand_model = Sequential()\n",
        "hand_model.add( Rescaling(1./255, input_shape=(150, 150, 3)) )\n",
        "\n",
        "hand_model.add( layers.Conv2D(16, kernel_size=10, activation=\"relu\") )\n",
        "hand_model.add( layers.MaxPooling2D(3) ) \n",
        "\n",
        "hand_model.add( layers.Conv2D(32, kernel_size=8, activation=\"relu\") )\n",
        "hand_model.add( layers.MaxPooling2D(2) ) \n",
        "\n",
        "hand_model.add( layers.Conv2D(32, kernel_size=6, activation=\"relu\") )\n",
        "hand_model.add( layers.MaxPooling2D(2) ) \n",
        "\n",
        "# Definir a arquitetura da CNN -> camada de decisão (classificação)\n",
        "hand_model.add( layers.Flatten() )\n",
        "hand_model.add( layers.Dense(50, activation=\"relu\") )\n",
        "hand_model.add( layers.Dense(20, activation=\"relu\") )\n",
        "hand_model.add( layers.Dense(5, activation=\"softmax\") )\n",
        "\n",
        "# Compila o modelo\n",
        "hand_model.compile(\n",
        "    optimizer=\"adam\",\n",
        "    loss=\"categorical_crossentropy\",\n",
        "    metrics=[\"accuracy\"]\n",
        ")\n",
        "\n",
        "# Definir a estratégia de Early Stopping\n",
        "es = EarlyStopping(monitor=\"val_accuracy\", \n",
        "                   patience=5, \n",
        "                   restore_best_weights=True)\n",
        "\n",
        "# Treinamento do modelo \n",
        "with tf.device(\"/device:GPU:0\"):\n",
        "  hand_model.fit(train_ds, train_labels,\n",
        "                 epochs=50,\n",
        "                 validation_split=0.2,\n",
        "                 batch_size=32,\n",
        "                 callbacks=[es])"
      ],
      "metadata": {
        "id": "-A8UpWR7-dq5",
        "colab": {
          "base_uri": "https://localhost:8080/"
        },
        "outputId": "da7b3e5e-051b-4589-e6cd-e7c3327ce206"
      },
      "execution_count": null,
      "outputs": [
        {
          "output_type": "stream",
          "name": "stdout",
          "text": [
            "Epoch 1/50\n",
            "65/65 [==============================] - 16s 33ms/step - loss: 1.5998 - accuracy: 0.2516 - val_loss: 1.6026 - val_accuracy: 0.2860\n",
            "Epoch 2/50\n",
            "65/65 [==============================] - 2s 32ms/step - loss: 1.4961 - accuracy: 0.3309 - val_loss: 1.3953 - val_accuracy: 0.3911\n",
            "Epoch 3/50\n",
            "65/65 [==============================] - 2s 24ms/step - loss: 1.3104 - accuracy: 0.4307 - val_loss: 1.3321 - val_accuracy: 0.4202\n",
            "Epoch 4/50\n",
            "65/65 [==============================] - 2s 24ms/step - loss: 1.2770 - accuracy: 0.4540 - val_loss: 1.2812 - val_accuracy: 0.4436\n",
            "Epoch 5/50\n",
            "65/65 [==============================] - 2s 25ms/step - loss: 1.1836 - accuracy: 0.4983 - val_loss: 1.2218 - val_accuracy: 0.4669\n",
            "Epoch 6/50\n",
            "65/65 [==============================] - 2s 27ms/step - loss: 1.1556 - accuracy: 0.5119 - val_loss: 1.2270 - val_accuracy: 0.5058\n",
            "Epoch 7/50\n",
            "65/65 [==============================] - 3s 50ms/step - loss: 1.0809 - accuracy: 0.5513 - val_loss: 1.1443 - val_accuracy: 0.5195\n",
            "Epoch 8/50\n",
            "65/65 [==============================] - 3s 51ms/step - loss: 1.0329 - accuracy: 0.5771 - val_loss: 1.1595 - val_accuracy: 0.5370\n",
            "Epoch 9/50\n",
            "65/65 [==============================] - 2s 37ms/step - loss: 0.9894 - accuracy: 0.5995 - val_loss: 1.1357 - val_accuracy: 0.5720\n",
            "Epoch 10/50\n",
            "65/65 [==============================] - 2s 38ms/step - loss: 0.9041 - accuracy: 0.6341 - val_loss: 1.1243 - val_accuracy: 0.5817\n",
            "Epoch 11/50\n",
            "65/65 [==============================] - 3s 39ms/step - loss: 0.8608 - accuracy: 0.6540 - val_loss: 1.0634 - val_accuracy: 0.6089\n",
            "Epoch 12/50\n",
            "65/65 [==============================] - 2s 34ms/step - loss: 0.8192 - accuracy: 0.6759 - val_loss: 1.1015 - val_accuracy: 0.5895\n",
            "Epoch 13/50\n",
            "65/65 [==============================] - 3s 45ms/step - loss: 0.7268 - accuracy: 0.7148 - val_loss: 1.1465 - val_accuracy: 0.5778\n",
            "Epoch 14/50\n",
            "65/65 [==============================] - 3s 43ms/step - loss: 0.6793 - accuracy: 0.7270 - val_loss: 1.1963 - val_accuracy: 0.5739\n",
            "Epoch 15/50\n",
            "65/65 [==============================] - 3s 43ms/step - loss: 0.5983 - accuracy: 0.7796 - val_loss: 1.2427 - val_accuracy: 0.5739\n",
            "Epoch 16/50\n",
            "65/65 [==============================] - 2s 25ms/step - loss: 0.5943 - accuracy: 0.7620 - val_loss: 1.1969 - val_accuracy: 0.5623\n"
          ]
        }
      ]
    },
    {
      "cell_type": "code",
      "source": [
        "# Avaliação do modelo\n",
        "loss, acc = hand_model.evaluate(test_ds, test_labels)\n",
        "\n",
        "print(f\"A loss do modelo é {loss:.2f} e a ACC é: {acc:.2f}\")"
      ],
      "metadata": {
        "colab": {
          "base_uri": "https://localhost:8080/"
        },
        "id": "gfIb_XOWFiAg",
        "outputId": "2099d370-b7d7-4a95-9754-48e129c71bb9"
      },
      "execution_count": null,
      "outputs": [
        {
          "output_type": "stream",
          "name": "stdout",
          "text": [
            "35/35 [==============================] - 1s 18ms/step - loss: 0.7308 - accuracy: 0.7130\n",
            "A loss do modelo é 0.73 e a ACC é: 0.71\n"
          ]
        }
      ]
    },
    {
      "cell_type": "code",
      "source": [
        "# Michel TODO - trazer a matriz de confusão e gráficos de loss/accuracy"
      ],
      "metadata": {
        "id": "-jh3Qt_2F5-Z"
      },
      "execution_count": null,
      "outputs": []
    },
    {
      "cell_type": "code",
      "source": [],
      "metadata": {
        "id": "h704FfUwotR-"
      },
      "execution_count": null,
      "outputs": []
    },
    {
      "cell_type": "code",
      "source": [],
      "metadata": {
        "id": "GbxEtAt9GO6o"
      },
      "execution_count": null,
      "outputs": []
    },
    {
      "cell_type": "code",
      "source": [],
      "metadata": {
        "id": "yiwgRTouoL13"
      },
      "execution_count": null,
      "outputs": []
    }
  ]
}